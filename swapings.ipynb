{
  "nbformat": 4,
  "nbformat_minor": 0,
  "metadata": {
    "colab": {
      "provenance": [],
      "gpuType": "T4"
    },
    "kernelspec": {
      "name": "python3",
      "display_name": "Python 3"
    },
    "language_info": {
      "name": "python"
    },
    "accelerator": "GPU"
  },
  "cells": [
    {
      "cell_type": "code",
      "source": [
        "#tuple swaping\n",
        "a=int(input( ))\n",
        "b=int(input( ))\n",
        "a,b=b,a\n",
        "print(\"a\",a)\n",
        "print(\"b\",b)"
      ],
      "metadata": {
        "id": "D61YZcTynd7a"
      },
      "execution_count": null,
      "outputs": []
    },
    {
      "cell_type": "code",
      "source": [
        "#temporary swaping\n",
        "a=int(input( ))\n",
        "b=int(input( ))\n",
        "temp=a\n",
        "a=b\n",
        "b=temp\n",
        "print(\"a\",a)\n",
        "print(\"b\",b)"
      ],
      "metadata": {
        "colab": {
          "base_uri": "https://localhost:8080/"
        },
        "id": "GX5mX79DnkFZ",
        "outputId": "a588d6af-41d4-40bb-ea39-c95eb8cd53f3"
      },
      "execution_count": 1,
      "outputs": [
        {
          "output_type": "stream",
          "name": "stdout",
          "text": [
            "343\n",
            "535\n",
            "a 535\n",
            "b 343\n"
          ]
        }
      ]
    },
    {
      "cell_type": "code",
      "execution_count": 1,
      "metadata": {
        "colab": {
          "base_uri": "https://localhost:8080/"
        },
        "id": "PDYs0xjJM3Kk",
        "outputId": "d5738851-50d1-40e9-bab7-aa51bde23dd6"
      },
      "outputs": [
        {
          "output_type": "stream",
          "name": "stdout",
          "text": [
            "3 \n",
            "5\n",
            "a 5\n",
            "b 3\n"
          ]
        }
      ],
      "source": [
        "#swaping using sum/diff\n",
        "a=int(input( ))\n",
        "b=int(input( ))\n",
        "a=a+b\n",
        "b=a-b\n",
        "a=a-b\n",
        "print(\"a\",a)\n",
        "print(\"b\",b)"
      ]
    },
    {
      "cell_type": "code",
      "source": [
        "#swaping using product/division\n",
        "a=int(input( ))\n",
        "b=int(input( ))\n",
        "a=a*b\n",
        "b=a/b\n",
        "a=a/b\n",
        "print(\"a\",a)\n",
        "print(\"b\",b)"
      ],
      "metadata": {
        "colab": {
          "base_uri": "https://localhost:8080/"
        },
        "id": "VYhvctKVOBnU",
        "outputId": "92995943-5747-4bd7-d207-812f021b3a06"
      },
      "execution_count": 2,
      "outputs": [
        {
          "output_type": "stream",
          "name": "stdout",
          "text": [
            "25\n",
            "5\n",
            "a 5.0\n",
            "b 25.0\n"
          ]
        }
      ]
    },
    {
      "cell_type": "code",
      "source": [
        "#circumference swaping\n",
        "a=int(input( ))\n",
        "b=int(input( ))\n",
        "a=a^b\n",
        "b=a^b\n",
        "a=a^b\n",
        "print(\"after swaping\")\n",
        "print(\"a\",a)\n",
        "print(\"b\",b)"
      ],
      "metadata": {
        "colab": {
          "base_uri": "https://localhost:8080/"
        },
        "id": "qi39WRpQQSUk",
        "outputId": "122592da-9597-44c9-dd91-2e1a15a0bd1f"
      },
      "execution_count": 6,
      "outputs": [
        {
          "output_type": "stream",
          "name": "stdout",
          "text": [
            "45\n",
            "56\n",
            "after swaping\n",
            "a 56\n",
            "b 45\n"
          ]
        }
      ]
    },
    {
      "cell_type": "code",
      "source": [
        "#list and type of operations\n",
        "fruits=[[\"apple\",\"mango\"],[\"cherry\",\"banana\"],[\"kiwi\",\"grapes\"]]\n",
        "print(fruits[1])\n",
        "print(fruits)\n",
        "fruits[2]=\"banana\"\n",
        "print(fruits)\n",
        "print(fruits[0:2])\n",
        "print(fruits[0::2])\n",
        "print(fruits)\n",
        "fruits.reverse()\n",
        "print(fruits[2])"
      ],
      "metadata": {
        "colab": {
          "base_uri": "https://localhost:8080/"
        },
        "id": "TPtIjikIXNJa",
        "outputId": "dd2b1c94-007f-47f6-e3d2-ab3bf0178e81"
      },
      "execution_count": 20,
      "outputs": [
        {
          "output_type": "stream",
          "name": "stdout",
          "text": [
            "['cherry', 'banana']\n",
            "[['apple', 'mango'], ['cherry', 'banana'], ['kiwi', 'grapes']]\n",
            "[['apple', 'mango'], ['cherry', 'banana'], 'banana']\n",
            "[['apple', 'mango'], ['cherry', 'banana']]\n",
            "[['apple', 'mango'], 'banana']\n",
            "[['apple', 'mango'], ['cherry', 'banana'], 'banana']\n",
            "['apple', 'mango']\n"
          ]
        }
      ]
    }
  ]
}